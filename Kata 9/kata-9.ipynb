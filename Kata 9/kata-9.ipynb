{
 "cells": [
  {
   "cell_type": "markdown",
   "metadata": {},
   "source": [
    "# Kata 9: Uso de funciones"
   ]
  },
  {
   "cell_type": "code",
   "execution_count": 5,
   "metadata": {},
   "outputs": [],
   "source": [
    "def averageTanks(tank1, tank2, tank3):\n",
    "    average=(tank1+tank2+tank3)/3\n",
    "    return f'''\n",
    "    Reporte de los tanques de la nave actuales:\n",
    "    Oxigeno: {tank1}%\n",
    "    Agua: {tank2}%\n",
    "    Combustible {tank3}%\n",
    "\n",
    "    El promedio es {average}\n",
    "    '''"
   ]
  },
  {
   "cell_type": "code",
   "execution_count": 6,
   "metadata": {},
   "outputs": [
    {
     "name": "stdout",
     "output_type": "stream",
     "text": [
      "\n",
      "    Reporte de los tanques de la nave actuales:\n",
      "    Oxigeno: 100%\n",
      "    Agua: 100%\n",
      "    Combustible 80%\n",
      "\n",
      "    El promedio es 93.33333333333333\n",
      "    \n"
     ]
    }
   ],
   "source": [
    "print( averageTanks(100,100,80))"
   ]
  },
  {
   "cell_type": "code",
   "execution_count": 7,
   "metadata": {},
   "outputs": [],
   "source": [
    "def averageTanks(tank1, tank2, tank3):\n",
    "    average=(tank1+tank2+tank3)/3\n",
    "    return average"
   ]
  },
  {
   "cell_type": "code",
   "execution_count": 10,
   "metadata": {},
   "outputs": [
    {
     "name": "stdout",
     "output_type": "stream",
     "text": [
      "\n",
      "    Reporte de los tanques de la nave actuales:\n",
      "    Oxigeno: 100%\n",
      "    Agua: 100%\n",
      "    Combustible 80%\n",
      "\n",
      "    El promedio es 93.33333333333333\n",
      "    \n"
     ]
    }
   ],
   "source": [
    "def tanksReport(tank1, tank2, tank3):\n",
    "    average=averageTanks(tank1, tank2, tank3)\n",
    "    return f'''\n",
    "    Reporte de los tanques de la nave actuales:\n",
    "    Oxigeno: {tank1}%\n",
    "    Agua: {tank2}%\n",
    "    Combustible {tank3}%\n",
    "\n",
    "    El promedio es {average}\n",
    "    '''\n",
    "print( tanksReport(100,100,80))\n"
   ]
  },
  {
   "cell_type": "code",
   "execution_count": 11,
   "metadata": {},
   "outputs": [
    {
     "name": "stdout",
     "output_type": "stream",
     "text": [
      "\n",
      "    Mision: Luna\n",
      "    Tiempo de viaje total: 65 minutos\n",
      "    Total de combustible restante: 5698539 lts\n",
      "    \n"
     ]
    }
   ],
   "source": [
    "def missionReport(prelaunch_hour, flight_time, destination, external_tank, internal_tank):\n",
    "     return f\"\"\"\n",
    "    Mision: {destination}\n",
    "    Tiempo de viaje total: {prelaunch_hour + flight_time} minutos\n",
    "    Total de combustible restante: {external_tank + internal_tank} lts\n",
    "    \"\"\"\n",
    "print(missionReport(14, 51, \"Luna\", 144425, 5554114))"
   ]
  },
  {
   "cell_type": "code",
   "execution_count": 17,
   "metadata": {},
   "outputs": [
    {
     "name": "stdout",
     "output_type": "stream",
     "text": [
      "\n",
      "    Mision: luna\n",
      "    Tiempo de viaje total: 65 minutos\n",
      "    Total de combustible restante: 5698539 lts\n",
      "    \n"
     ]
    }
   ],
   "source": [
    "def missionReport(destination, *time_in_minutes, **fuel_tanks ):\n",
    "     return f\"\"\"\n",
    "    Mision: {destination}\n",
    "    Tiempo de viaje total: {sum(time_in_minutes)} minutos\n",
    "    Total de combustible restante: {sum(fuel_tanks.values())} lts\n",
    "    \"\"\"\n",
    "print(missionReport(\"luna\",14, 51, tank1=144425, tank2=5554114))"
   ]
  },
  {
   "cell_type": "code",
   "execution_count": 18,
   "metadata": {},
   "outputs": [
    {
     "name": "stdout",
     "output_type": "stream",
     "text": [
      "\n",
      "    Mision: luna\n",
      "    Tiempo de viaje total: 65 minutos\n",
      "    Total de combustible restante: 5698539 lts\n",
      "    tank1 tanque: 144425 lts\n",
      "tank2 tanque: 5554114 lts\n",
      "\n"
     ]
    }
   ],
   "source": [
    "def missionReport(destination, *time_in_minutes, **fuel_tanks ):\n",
    "    report= f\"\"\"\n",
    "    Mision: {destination}\n",
    "    Tiempo de viaje total: {sum(time_in_minutes)} minutos\n",
    "    Total de combustible restante: {sum(fuel_tanks.values())} lts\n",
    "    \"\"\"\n",
    "    for tank_name, value in fuel_tanks.items():\n",
    "       report += f\"{tank_name} tanque: {value} lts\\n\"\n",
    "    return report\n",
    "print(missionReport(\"luna\",14, 51, tank1=144425, tank2=5554114))"
   ]
  }
 ],
 "metadata": {
  "interpreter": {
   "hash": "31f2aee4e71d21fbe5cf8b01ff0e069b9275f58929596ceb00d14d90e3e16cd6"
  },
  "kernelspec": {
   "display_name": "Python 3.8.9 64-bit",
   "language": "python",
   "name": "python3"
  },
  "language_info": {
   "codemirror_mode": {
    "name": "ipython",
    "version": 3
   },
   "file_extension": ".py",
   "mimetype": "text/x-python",
   "name": "python",
   "nbconvert_exporter": "python",
   "pygments_lexer": "ipython3",
   "version": "3.8.9"
  },
  "orig_nbformat": 4
 },
 "nbformat": 4,
 "nbformat_minor": 2
}
