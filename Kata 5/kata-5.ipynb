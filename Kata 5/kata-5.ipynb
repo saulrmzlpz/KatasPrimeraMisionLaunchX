{
 "cells": [
  {
   "cell_type": "markdown",
   "metadata": {},
   "source": [
    "# Kata 5: Operadores aritméticos en Python"
   ]
  },
  {
   "cell_type": "code",
   "execution_count": 1,
   "metadata": {},
   "outputs": [],
   "source": [
    "earth_distance =\"149.597.870\".replace(\".\",\"\")\n",
    "jupiter_distance=\"778.547.200\".replace(\".\",\"\")"
   ]
  },
  {
   "cell_type": "code",
   "execution_count": 7,
   "metadata": {},
   "outputs": [
    {
     "name": "stdout",
     "output_type": "stream",
     "text": [
      "628949330\n",
      "390577534\n"
     ]
    }
   ],
   "source": [
    "total_distance = int(earth_distance) - int(jupiter_distance)\n",
    "print(abs(total_distance))\n",
    "print(round(abs(total_distance)*0.621))"
   ]
  },
  {
   "cell_type": "code",
   "execution_count": 16,
   "metadata": {},
   "outputs": [],
   "source": [
    "sun_distance_on_plantet = input(\"Ingresa la distancia del primer planeta\")\n",
    "sun_distance_on_plantet2 = input(\"Ingresa la distancia del segundo planeta\")"
   ]
  },
  {
   "cell_type": "code",
   "execution_count": 17,
   "metadata": {},
   "outputs": [],
   "source": [
    "sun_distance_on_plantet=int(sun_distance_on_plantet)\n",
    "sun_distance_on_plantet2=int(sun_distance_on_plantet2)\n"
   ]
  },
  {
   "cell_type": "code",
   "execution_count": 18,
   "metadata": {},
   "outputs": [
    {
     "name": "stdout",
     "output_type": "stream",
     "text": [
      "50300000\n",
      "31236300.0\n"
     ]
    }
   ],
   "source": [
    "total = sun_distance_on_plantet-sun_distance_on_plantet2\n",
    "print(abs(total))\n",
    "print(abs(total*0.621))"
   ]
  }
 ],
 "metadata": {
  "interpreter": {
   "hash": "31f2aee4e71d21fbe5cf8b01ff0e069b9275f58929596ceb00d14d90e3e16cd6"
  },
  "kernelspec": {
   "display_name": "Python 3.8.9 64-bit",
   "language": "python",
   "name": "python3"
  },
  "language_info": {
   "codemirror_mode": {
    "name": "ipython",
    "version": 3
   },
   "file_extension": ".py",
   "mimetype": "text/x-python",
   "name": "python",
   "nbconvert_exporter": "python",
   "pygments_lexer": "ipython3",
   "version": "3.8.9"
  },
  "orig_nbformat": 4
 },
 "nbformat": 4,
 "nbformat_minor": 2
}
