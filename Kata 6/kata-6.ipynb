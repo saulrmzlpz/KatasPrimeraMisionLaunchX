{
 "cells": [
  {
   "cell_type": "markdown",
   "metadata": {},
   "source": [
    "# Kata 6: Crear y usar listas"
   ]
  },
  {
   "cell_type": "code",
   "execution_count": 10,
   "metadata": {},
   "outputs": [
    {
     "name": "stdout",
     "output_type": "stream",
     "text": [
      "Existen 8 planetas en el sistema solar\n"
     ]
    }
   ],
   "source": [
    "planets=['mercury', 'Venus', 'Earth', 'Mars', 'Jupiter', 'Saturn','Uranus','Neptune']\n",
    "print(str.format('Existen {0} planetas en el sistema solar',len(planets)))"
   ]
  },
  {
   "cell_type": "code",
   "execution_count": 11,
   "metadata": {},
   "outputs": [
    {
     "name": "stdout",
     "output_type": "stream",
     "text": [
      "El planeta descartado del sistema solar es Pluton\n"
     ]
    }
   ],
   "source": [
    "planets.append('Pluton')\n",
    "print(str.format('El planeta descartado del sistema solar es {0}', planets[-1]))"
   ]
  },
  {
   "cell_type": "code",
   "execution_count": 12,
   "metadata": {},
   "outputs": [],
   "source": [
    "planets=['mercury', 'Venus', 'Earth', 'Mars', 'Jupiter', 'Saturn','Uranus','Neptune']"
   ]
  },
  {
   "cell_type": "code",
   "execution_count": 13,
   "metadata": {},
   "outputs": [],
   "source": [
    "planets.append(input('Escribe el nombre de un nuevo planeta. Usa capitalización para el nombre por favor :)'))"
   ]
  },
  {
   "cell_type": "code",
   "execution_count": 18,
   "metadata": {},
   "outputs": [
    {
     "name": "stdout",
     "output_type": "stream",
     "text": [
      "Un nuevo planeta descubierto del sistema solar es Yaris. Su posición en la lista: 8\n"
     ]
    }
   ],
   "source": [
    "new_planet = planets[-1]\n",
    "index_new_planet = planets.index(new_planet)\n",
    "print(str.format('Un nuevo planeta descubierto del sistema solar es {0}. Su posición en la lista: {1}', new_planet, index_new_planet))"
   ]
  },
  {
   "cell_type": "code",
   "execution_count": 19,
   "metadata": {},
   "outputs": [
    {
     "name": "stdout",
     "output_type": "stream",
     "text": [
      "El número planetas mas cercanos que Yaris\n",
      "['mercury', 'Venus', 'Earth', 'Mars', 'Jupiter', 'Saturn', 'Uranus', 'Neptune']\n"
     ]
    }
   ],
   "source": [
    "print('El número planetas mas lejos de ' + new_planet)\n",
    "print(planets[0:index_new_planet])"
   ]
  },
  {
   "cell_type": "code",
   "execution_count": 20,
   "metadata": {},
   "outputs": [
    {
     "name": "stdout",
     "output_type": "stream",
     "text": [
      "El orden de los planetas mas cerca de Yaris\n",
      "[]\n"
     ]
    }
   ],
   "source": [
    "print('El orden de los planetas mas cerca de ' + new_planet)\n",
    "print(planets[index_new_planet+1:])"
   ]
  }
 ],
 "metadata": {
  "interpreter": {
   "hash": "31f2aee4e71d21fbe5cf8b01ff0e069b9275f58929596ceb00d14d90e3e16cd6"
  },
  "kernelspec": {
   "display_name": "Python 3.8.9 64-bit",
   "language": "python",
   "name": "python3"
  },
  "language_info": {
   "codemirror_mode": {
    "name": "ipython",
    "version": 3
   },
   "file_extension": ".py",
   "mimetype": "text/x-python",
   "name": "python",
   "nbconvert_exporter": "python",
   "pygments_lexer": "ipython3",
   "version": "3.8.9"
  },
  "orig_nbformat": 4
 },
 "nbformat": 4,
 "nbformat_minor": 2
}
