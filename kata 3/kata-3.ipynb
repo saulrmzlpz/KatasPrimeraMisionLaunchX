{
 "cells": [
  {
   "cell_type": "markdown",
   "metadata": {},
   "source": [
    "# Kata 3: Escribir declaraciones if, else, y elif"
   ]
  },
  {
   "cell_type": "code",
   "execution_count": 3,
   "metadata": {},
   "outputs": [
    {
     "name": "stdout",
     "output_type": "stream",
     "text": [
      "PELIGRO UN ASTEROIDE VIENE RAPIDISIMO A TU CASAAA!!!\n"
     ]
    }
   ],
   "source": [
    "kms = 49\n",
    "if(kms>25):\n",
    "    print('PELIGRO UN ASTEROIDE VIENE RAPIDISIMO A TU CASAAA!!!')\n",
    "else:\n",
    "    print('Todo tranquilo para el dia de hoy')"
   ]
  },
  {
   "cell_type": "code",
   "execution_count": 5,
   "metadata": {},
   "outputs": [
    {
     "name": "stdout",
     "output_type": "stream",
     "text": [
      "Todo bien por ahora\n"
     ]
    }
   ],
   "source": [
    "kms = 19\n",
    "if(kms>20):\n",
    "    print('Mira hacia arriba. Dicaprio tenia razón!!!')\n",
    "elif(kms==20):\n",
    "    print('Mira hacia arriba. Dicaprio tenia razón!!!')\n",
    "else:\n",
    "    print('Todo bien por ahora')"
   ]
  },
  {
   "cell_type": "code",
   "execution_count": 9,
   "metadata": {},
   "outputs": [
    {
     "name": "stdout",
     "output_type": "stream",
     "text": [
      "Mira hacia arriba. Dicaprio tenia razón!!!\n"
     ]
    }
   ],
   "source": [
    "kms = 25\n",
    "dim_asteroide = 40\n",
    "if kms > 25 and dim_asteroide > 25:\n",
    "    print('PELIGRO UN ASTEROIDE VIENE RAPIDISIMO A TU CASAAA!!!')\n",
    "elif kms >= 20:\n",
    "    print('Mira hacia arriba. Dicaprio tenia razón!!!')\n",
    "elif dim_asteroide < 25:\n",
    "    print('Todo bien por ahora')\n",
    "else:\n",
    "    print('Todo bien por ahora')"
   ]
  }
 ],
 "metadata": {
  "interpreter": {
   "hash": "31f2aee4e71d21fbe5cf8b01ff0e069b9275f58929596ceb00d14d90e3e16cd6"
  },
  "kernelspec": {
   "display_name": "Python 3.8.9 64-bit",
   "language": "python",
   "name": "python3"
  },
  "language_info": {
   "codemirror_mode": {
    "name": "ipython",
    "version": 3
   },
   "file_extension": ".py",
   "mimetype": "text/x-python",
   "name": "python",
   "nbconvert_exporter": "python",
   "pygments_lexer": "ipython3",
   "version": "3.8.9"
  },
  "orig_nbformat": 4
 },
 "nbformat": 4,
 "nbformat_minor": 2
}
